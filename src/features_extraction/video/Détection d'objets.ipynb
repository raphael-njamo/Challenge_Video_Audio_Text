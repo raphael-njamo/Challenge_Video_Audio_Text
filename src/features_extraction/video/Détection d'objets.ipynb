{
 "cells": [
  {
   "cell_type": "markdown",
   "metadata": {},
   "source": [
    "# Détection d'objets"
   ]
  },
  {
   "cell_type": "markdown",
   "metadata": {},
   "source": [
    "## Import des librairies"
   ]
  },
  {
   "cell_type": "code",
   "execution_count": 1,
   "metadata": {},
   "outputs": [],
   "source": [
    "import cv2\n",
    "import os\n",
    "from imageio import imread\n",
    "import pandas as pd\n",
    "import numpy as np\n",
    "from tqdm import tqdm\n",
    "from sklearn.decomposition import PCA\n",
    "from sklearn.cluster import KMeans\n",
    "import csv\n",
    "import matplotlib.pyplot as plt"
   ]
  },
  {
   "cell_type": "markdown",
   "metadata": {},
   "source": [
    "## Initialisation des variables"
   ]
  },
  {
   "cell_type": "code",
   "execution_count": 2,
   "metadata": {},
   "outputs": [],
   "source": [
    "REP = '../Challenge_Video_Audio_Text/data/images'"
   ]
  },
  {
   "cell_type": "code",
   "execution_count": 9,
   "metadata": {},
   "outputs": [],
   "source": [
    "set_object_exterior = {'bicycle','car','motorcycle','airplane','bus','train','truck','boat',\n",
    "                        'traffic ligtht','fire hydrant','stop_sign','parking meter'}"
   ]
  },
  {
   "cell_type": "markdown",
   "metadata": {},
   "source": [
    "### Détection d'objets"
   ]
  },
  {
   "cell_type": "code",
   "execution_count": 10,
   "metadata": {},
   "outputs": [
    {
     "name": "stderr",
     "output_type": "stream",
     "text": [
      "100%|██████████| 882/882 [2:06:16<00:00,  7.76s/it]  \n"
     ]
    }
   ],
   "source": [
    "from imageai.Detection import ObjectDetection\n",
    "import os\n",
    "from tqdm import tqdm\n",
    "\n",
    "imagesExt = []\n",
    "\n",
    "execution_path = os.getcwd()\n",
    "\n",
    "detector = ObjectDetection()\n",
    "detector.setModelTypeAsRetinaNet()\n",
    "detector.setModelPath( os.path.join( execution_path, \"resnet50_coco_best_v2.0.1.h5\"))\n",
    "detector.loadModel()\n",
    "\n",
    "for i in tqdm(km['name']):\n",
    "    detections = detector.detectObjectsFromImage(input_image=os.path.join(REP,i),output_image_path=\"imagenew.jpg\")\n",
    "    for eachObject in detections:\n",
    "        dehors = False\n",
    "        if eachObject[\"name\"] in set_object_exterior:\n",
    "            dehors = True\n",
    "        if dehors:\n",
    "            imagesExt.append(i)"
   ]
  },
  {
   "cell_type": "code",
   "execution_count": 13,
   "metadata": {},
   "outputs": [
    {
     "data": {
      "text/plain": [
       "['SEQ_010_VIDEO/frame_1.jpg',\n",
       " 'SEQ_010_VIDEO/frame_1.jpg',\n",
       " 'SEQ_013_VIDEO/frame_3.jpg',\n",
       " 'SEQ_013_VIDEO/frame_2.jpg',\n",
       " 'SEQ_036_VIDEO/frame_1.jpg',\n",
       " 'SEQ_056_VIDEO/frame_3.jpg',\n",
       " 'SEQ_060_VIDEO/frame_3.jpg',\n",
       " 'SEQ_068_VIDEO/frame_1.jpg',\n",
       " 'SEQ_069_VIDEO/frame_1.jpg',\n",
       " 'SEQ_069_VIDEO/frame_1.jpg',\n",
       " 'SEQ_107_VIDEO/frame_1.jpg',\n",
       " 'SEQ_133_VIDEO/frame_3.jpg',\n",
       " 'SEQ_133_VIDEO/frame_3.jpg',\n",
       " 'SEQ_133_VIDEO/frame_2.jpg',\n",
       " 'SEQ_133_VIDEO/frame_2.jpg',\n",
       " 'SEQ_133_VIDEO/frame_1.jpg',\n",
       " 'SEQ_133_VIDEO/frame_1.jpg',\n",
       " 'SEQ_133_VIDEO/frame_1.jpg',\n",
       " 'SEQ_151_VIDEO/frame_3.jpg',\n",
       " 'SEQ_153_VIDEO/frame_3.jpg',\n",
       " 'SEQ_153_VIDEO/frame_3.jpg',\n",
       " 'SEQ_165_VIDEO/frame_1.jpg',\n",
       " 'SEQ_174_VIDEO/frame_2.jpg',\n",
       " 'SEQ_203_VIDEO/frame_2.jpg',\n",
       " 'SEQ_218_VIDEO/frame_2.jpg',\n",
       " 'SEQ_218_VIDEO/frame_2.jpg',\n",
       " 'SEQ_220_VIDEO/frame_2.jpg',\n",
       " 'SEQ_237_VIDEO/frame_1.jpg',\n",
       " 'SEQ_254_VIDEO/frame_1.jpg',\n",
       " 'SEQ_256_VIDEO/frame_1.jpg',\n",
       " 'SEQ_297_VIDEO/frame_1.jpg']"
      ]
     },
     "execution_count": 13,
     "metadata": {},
     "output_type": "execute_result"
    }
   ],
   "source": [
    "imagesExt"
   ]
  },
  {
   "cell_type": "markdown",
   "metadata": {},
   "source": [
    "Seulement 20 séquences différentes"
   ]
  },
  {
   "cell_type": "code",
   "execution_count": 12,
   "metadata": {},
   "outputs": [
    {
     "name": "stdout",
     "output_type": "stream",
     "text": [
      "person  :  98.9058196545\n",
      "car  :  51.7572164536\n"
     ]
    }
   ],
   "source": [
    "from imageai.Detection import ObjectDetection\n",
    "import os\n",
    "\n",
    "execution_path = os.getcwd()\n",
    "\n",
    "detector = ObjectDetection()\n",
    "detector.setModelTypeAsRetinaNet()\n",
    "detector.setModelPath( os.path.join( execution_path, \"resnet50_coco_best_v2.0.1.h5\"))\n",
    "detector.loadModel()\n",
    "detections = detector.detectObjectsFromImage(input_image=REP+\"/SEQ_018_VIDEO/frame_193.jpg\", output_image_path=\"imagenew.jpg\")\n",
    "\n",
    "for eachObject in detections:\n",
    "    print(eachObject[\"name\"] , \" : \" , eachObject[\"percentage_probability\"] )"
   ]
  }
 ],
 "metadata": {
  "kernelspec": {
   "display_name": "Python 3",
   "language": "python",
   "name": "python3"
  },
  "language_info": {
   "codemirror_mode": {
    "name": "ipython",
    "version": 3
   },
   "file_extension": ".py",
   "mimetype": "text/x-python",
   "name": "python",
   "nbconvert_exporter": "python",
   "pygments_lexer": "ipython3",
   "version": "3.6.7"
  }
 },
 "nbformat": 4,
 "nbformat_minor": 2
}
