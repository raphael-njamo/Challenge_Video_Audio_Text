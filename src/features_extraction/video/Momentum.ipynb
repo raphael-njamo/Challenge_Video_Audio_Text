{
 "cells": [
  {
   "cell_type": "markdown",
   "metadata": {},
   "source": [
    "# Exploitation features quantité de mouvement"
   ]
  },
  {
   "cell_type": "markdown",
   "metadata": {},
   "source": [
    "### Import des librairies"
   ]
  },
  {
   "cell_type": "code",
   "execution_count": null,
   "metadata": {
    "colab": {
     "base_uri": "https://localhost:8080/",
     "height": 119
    },
    "colab_type": "code",
    "id": "RrEFhkCQK5mt",
    "outputId": "d3102686-d279-433f-ffbb-5709cb18b73e"
   },
   "outputs": [],
   "source": [
    "! pip install imageio\n",
    "! pip install opencv-python"
   ]
  },
  {
   "cell_type": "code",
   "execution_count": null,
   "metadata": {
    "colab": {
     "base_uri": "https://localhost:8080/",
     "height": 105
    },
    "colab_type": "code",
    "id": "5AX0toZZIb8N",
    "outputId": "f0518451-2927-4715-cda6-dd22064ae526"
   },
   "outputs": [],
   "source": [
    "import cv2\n",
    "import os\n",
    "from imageio import imread\n",
    "import pandas as pd\n",
    "import numpy as np\n",
    "from tqdm import tqdm\n",
    "from sklearn.decomposition import PCA\n",
    "from sklearn.cluster import KMeans\n",
    "from sklearn import svm, grid_search, datasets\n",
    "from sklearn.neighbors import KNeighborsClassifier\n",
    "from sklearn.model_selection import train_test_split\n",
    "from sklearn.metrics import confusion_matrix\n",
    "from sklearn.model_selection import GridSearchCV\n",
    "import matplotlib.pyplot as plt\n",
    "import random\n",
    "import csv"
   ]
  },
  {
   "cell_type": "markdown",
   "metadata": {},
   "source": [
    "### Initialisation des variables"
   ]
  },
  {
   "cell_type": "code",
   "execution_count": 0,
   "metadata": {
    "colab": {},
    "colab_type": "code",
    "id": "K0rpoCpoIzGN"
   },
   "outputs": [],
   "source": [
    "data = pd.read_csv('df_momentum.csv',delimiter='§',engine='python')"
   ]
  },
  {
   "cell_type": "code",
   "execution_count": 0,
   "metadata": {
    "colab": {},
    "colab_type": "code",
    "id": "wulav69TMwA1"
   },
   "outputs": [],
   "source": [
    "data.sort_values(by=['Unnamed: 0'],inplace=True)\n",
    "index = data['Unnamed: 0']\n",
    "del data['Unnamed: 0']"
   ]
  },
  {
   "cell_type": "code",
   "execution_count": 0,
   "metadata": {
    "colab": {},
    "colab_type": "code",
    "id": "wwZWZUycLsAQ"
   },
   "outputs": [],
   "source": [
    "annotations = pd.read_csv('Annotations2.csv')"
   ]
  },
  {
   "cell_type": "markdown",
   "metadata": {},
   "source": [
    "### Définition des fonctions"
   ]
  },
  {
   "cell_type": "markdown",
   "metadata": {},
   "source": [
    "#### Fonction de création du graphique"
   ]
  },
  {
   "cell_type": "code",
   "execution_count": 0,
   "metadata": {
    "colab": {},
    "colab_type": "code",
    "id": "f4Aw1F1bN6g8"
   },
   "outputs": [],
   "source": [
    "import plotly.graph_objs as go\n",
    "from plotly.offline import download_plotlyjs, plot, iplot\n",
    "import numpy as np\n",
    "\n",
    "def plot_cluster(coords, names, labels, name_plot):\n",
    "    ''' \n",
    "    Create a scatter plot\n",
    "    \n",
    "    Arguments:\n",
    "        coords {numpy array} -- A numpy array with N lines and 2 columns \n",
    "                                (N=number of individuals) each column \n",
    "                                correspond to a dimension\n",
    "        names {list} -- list corresponding to the names of the individuals\n",
    "        labels {type} -- Label of the cluster (an integer like 0 for the first cluster, 1 for the second...)\n",
    "        name_plot {str} -- name of the html file of the plot\n",
    "    '''\n",
    "\n",
    "    # Create a trace\n",
    "    trace = go.Scatter(\n",
    "        x = coords[:, 0],\n",
    "        y = coords[:, 1],\n",
    "        mode = 'markers',\n",
    "        text = names,\n",
    "        marker = dict(\n",
    "            size = 10,\n",
    "            color = labels,\n",
    "            line = dict(\n",
    "                width = 2,\n",
    "                color = 'rgb(102, 102, 255)'\n",
    "            )\n",
    "        )\n",
    "    )\n",
    "\n",
    "    data = [trace]\n",
    "\n",
    "    layout = dict(title = 'Styled Scatter',\n",
    "                    yaxis = dict(zeroline = False),\n",
    "                    xaxis = dict(zeroline = False)\n",
    "                    )\n",
    "\n",
    "    fig = dict(data=data, layout=layout)\n",
    "    plot(fig, filename=name_plot)"
   ]
  },
  {
   "cell_type": "markdown",
   "metadata": {},
   "source": [
    "#### Fonction de création de la matrice de confusion"
   ]
  },
  {
   "cell_type": "code",
   "execution_count": 0,
   "metadata": {
    "colab": {},
    "colab_type": "code",
    "id": "LrJ4fZDzVG-o"
   },
   "outputs": [],
   "source": [
    "import matplotlib.pyplot as plt\n",
    "import itertools\n",
    "\n",
    "def plot_confusion_matrix(cm, classes,\n",
    "                          normalize=False,\n",
    "                          title='Confusion matrix',\n",
    "                          cmap=plt.cm.Blues):\n",
    "    \"\"\"\n",
    "    This function prints and plots the confusion matrix.\n",
    "    Normalization can be applied by setting `normalize=True`.\n",
    "    \"\"\"\n",
    "    if normalize:\n",
    "        cm = cm.astype('float') / cm.sum(axis=1)[:, np.newaxis]\n",
    "        print(\"Normalized confusion matrix\")\n",
    "    else:\n",
    "        print('Confusion matrix, without normalization')\n",
    "\n",
    "    print(cm)\n",
    "\n",
    "    plt.imshow(cm, interpolation='nearest', cmap=cmap)\n",
    "    plt.grid(\"off\")\n",
    "    plt.title(title)\n",
    "    plt.colorbar()\n",
    "    tick_marks = np.arange(len(classes))\n",
    "    plt.xticks(tick_marks, classes, rotation=45)\n",
    "    plt.yticks(tick_marks, classes)\n",
    "\n",
    "    fmt = '.2f' if normalize else 'd'\n",
    "    thresh = cm.max() / 2.\n",
    "    for i, j in itertools.product(range(cm.shape[0]), range(cm.shape[1])):\n",
    "        plt.text(j, i, format(cm[i, j], fmt),\n",
    "                 horizontalalignment=\"center\",\n",
    "                 color=\"white\" if cm[i, j] > thresh else \"black\")\n",
    "\n",
    "    plt.ylabel('True label')\n",
    "    plt.xlabel('Predicted label')\n",
    "    plt.tight_layout()"
   ]
  },
  {
   "cell_type": "markdown",
   "metadata": {},
   "source": [
    "#### Fonction de stratification de l'échantillon"
   ]
  },
  {
   "cell_type": "code",
   "execution_count": 0,
   "metadata": {
    "colab": {},
    "colab_type": "code",
    "id": "YScmPdEJaej3"
   },
   "outputs": [],
   "source": [
    "from random import sample\n",
    "\n",
    "def splits(X,y):\n",
    "    random.seed(1)\n",
    "    index = list(y.index[y == 1])\n",
    "    nb_elem_test = int(len(index)*0.2)\n",
    "    index_train = sample(index, nb_elem_test)\n",
    "    index_test = list(set(index) - set(index_train))\n",
    "\n",
    "    # les non violents\n",
    "    index_not = list(set(y.index) - set(index))\n",
    "\n",
    "    index_not_train = sample(index_not, nb_elem_test)\n",
    "    index_not_test = list(set(index_not) - set(index_not))\n",
    "\n",
    "    # assemblage\n",
    "    index_train = index_train + index_not_train\n",
    "    index_test = list(set(y.index) - set(index_train))\n",
    "\n",
    "    # y_violent[y_violent.index == index_test]\n",
    "    X_train = X[y.index.isin(index_train)]\n",
    "    X_test = X[y.index.isin(index_test)]\n",
    "    y_train = y[y.index.isin(index_train)]\n",
    "    y_test = y[y.index.isin(index_test)]\n",
    "    \n",
    "    return X_train,X_test,y_train,y_test"
   ]
  },
  {
   "cell_type": "markdown",
   "metadata": {},
   "source": [
    "#### Fonction pour exécuter KNN"
   ]
  },
  {
   "cell_type": "code",
   "execution_count": 0,
   "metadata": {
    "colab": {},
    "colab_type": "code",
    "id": "NRAnMsCDXUuT"
   },
   "outputs": [],
   "source": [
    "def KNN_plus_gridsearch(X, y, n_neighbors_knn, n_neighbors_grid,c1,c2,title):\n",
    "\n",
    "    #KNN\n",
    "    # split and shuffle X and y\n",
    "#     TEST_SIZE = np.int(np.floor(len(y)*0.7))\n",
    "#     X_train, X_test, y_train, y_test = train_test_split(X, y, test_size=TEST_SIZE)\n",
    "    X_train,X_test,y_train,y_test = splits(X,y)\n",
    "\n",
    "    # train\n",
    "    n_neighbors = n_neighbors_knn\n",
    "    clf = KNeighborsClassifier(n_neighbors)\n",
    "    #TODO: fit le modèle 1 seule fois\n",
    "    \n",
    "    # GRID SEARCH\n",
    "    # parameters\n",
    "    myList = list(range(1,n_neighbors_grid))\n",
    "#     n = filter(lambda x: x % 2 != 0, myList)\n",
    "    parameters = {'n_neighbors':myList}\n",
    "\n",
    "    # learn with grid search\n",
    "    model = GridSearchCV(clf, parameters)\n",
    "    #TODO: fit le modèle 1 seule fois\n",
    "    model.fit(X_train, y_train)\n",
    "    \n",
    "    # le best k trouvé est à priori dans les paramètres\n",
    "    params = model.best_params_\n",
    "        \n",
    "    n_neighbors = params['n_neighbors']\n",
    "    clf = KNeighborsClassifier(n_neighbors)\n",
    "    \n",
    "    clf.fit(X_train, y_train)\n",
    "\n",
    "    # predict\n",
    "    #TODO: prédire toujours sur les mêmes vidéos pour pouvoir comparer l'accuracy des prédictions avec différents paramètrages\n",
    "    y_pred = clf.predict(X_test)\n",
    "    \n",
    "    # transform into dataframe\n",
    "    y_pred = pd.DataFrame(y_pred)\n",
    "    y_pred.index = y_test.index\n",
    "    \n",
    "#     print(y_test)\n",
    "#     print(y_pred)\n",
    "    \n",
    "    df = pd.concat([y_pred, y_test], axis=1)\n",
    "    df.columns = ['pred', 'test']\n",
    "\n",
    "    # confusion matrix\n",
    "    confusion = confusion_matrix(y_test, y_pred)\n",
    "    plot_confusion_matrix(confusion,classes=[c1,c2],title=title)\n",
    "\n",
    "    #accuracy\n",
    "    acc = 0\n",
    "    for i in df.index:\n",
    "        if (df['test'][i]==df['pred'][i]):\n",
    "            acc +=1\n",
    "    acc = acc/len(df)\n",
    "    \n",
    "    return df, confusion, acc, params"
   ]
  },
  {
   "cell_type": "markdown",
   "metadata": {},
   "source": [
    "### KMeans"
   ]
  },
  {
   "cell_type": "code",
   "execution_count": 0,
   "metadata": {
    "colab": {},
    "colab_type": "code",
    "id": "CsFVYoqGLVBJ"
   },
   "outputs": [],
   "source": [
    "kmeans_pca = KMeans(n_clusters=2, random_state=0).fit_predict(data)"
   ]
  },
  {
   "cell_type": "code",
   "execution_count": 0,
   "metadata": {
    "colab": {},
    "colab_type": "code",
    "id": "hcSym1e-LaBy"
   },
   "outputs": [],
   "source": [
    "km = pd.DataFrame({'name':index,'classe':kmeans_pca})"
   ]
  },
  {
   "cell_type": "markdown",
   "metadata": {},
   "source": [
    "### PCA"
   ]
  },
  {
   "cell_type": "code",
   "execution_count": 0,
   "metadata": {
    "colab": {},
    "colab_type": "code",
    "id": "9QZNONuPLR-z"
   },
   "outputs": [],
   "source": [
    "pca = PCA(n_components=2)\n",
    "so_data_reduc = pca.fit_transform(data)"
   ]
  },
  {
   "cell_type": "code",
   "execution_count": 0,
   "metadata": {
    "colab": {},
    "colab_type": "code",
    "id": "rfqXTuBCN8Sh"
   },
   "outputs": [],
   "source": [
    "plot_cluster(so_data_reduc,index,kmeans_pca,'plot.html')"
   ]
  },
  {
   "cell_type": "markdown",
   "metadata": {},
   "source": [
    "### Evaluation du cluster"
   ]
  },
  {
   "cell_type": "code",
   "execution_count": 0,
   "metadata": {
    "colab": {},
    "colab_type": "code",
    "id": "CHjZe3KoQr_V"
   },
   "outputs": [],
   "source": [
    "from sklearn.metrics import silhouette_score\n",
    "from sklearn.cluster import KMeans\n",
    "import pandas as pd\n",
    "\n",
    "\n",
    "def best_k(X, range_min=25, verbose=True):\n",
    "\n",
    "    if range_min < 2:\n",
    "        raise ValueError('range_min is less than 2')\n",
    "    score = []\n",
    "    for i, k in enumerate(range(2, range_min)):\n",
    "\n",
    "        model = KMeans(n_clusters=k, random_state=42, n_init=30)\n",
    "        score.append(silhouette_score(X, model.fit_predict(X)))\n",
    "        if verbose:\n",
    "            print(f'Le score pour k={k} est : {score[i]:.2f}')\n",
    "\n",
    "    return range(2, range_min)[score.index(max(score))]"
   ]
  },
  {
   "cell_type": "code",
   "execution_count": 0,
   "metadata": {
    "colab": {
     "base_uri": "https://localhost:8080/",
     "height": 425
    },
    "colab_type": "code",
    "id": "cbtYXTiOQx8T",
    "outputId": "84eccc3a-f2ed-4b8a-950f-1ea25a5ddf10"
   },
   "outputs": [
    {
     "name": "stdout",
     "output_type": "stream",
     "text": [
      "Le score pour k=2 est : 0.44\n",
      "Le score pour k=3 est : 0.39\n",
      "Le score pour k=4 est : 0.35\n",
      "Le score pour k=5 est : 0.35\n",
      "Le score pour k=6 est : 0.37\n",
      "Le score pour k=7 est : 0.38\n",
      "Le score pour k=8 est : 0.37\n",
      "Le score pour k=9 est : 0.37\n",
      "Le score pour k=10 est : 0.37\n",
      "Le score pour k=11 est : 0.36\n",
      "Le score pour k=12 est : 0.37\n",
      "Le score pour k=13 est : 0.37\n",
      "Le score pour k=14 est : 0.35\n",
      "Le score pour k=15 est : 0.36\n",
      "Le score pour k=16 est : 0.36\n",
      "Le score pour k=17 est : 0.37\n",
      "Le score pour k=18 est : 0.36\n",
      "Le score pour k=19 est : 0.36\n",
      "Le score pour k=20 est : 0.36\n",
      "Le score pour k=21 est : 0.35\n",
      "Le score pour k=22 est : 0.38\n",
      "Le score pour k=23 est : 0.35\n",
      "Le score pour k=24 est : 0.35\n"
     ]
    },
    {
     "data": {
      "text/plain": [
       "2"
      ]
     },
     "execution_count": 12,
     "metadata": {
      "tags": []
     },
     "output_type": "execute_result"
    }
   ],
   "source": [
    "best_k(so_data_reduc)"
   ]
  },
  {
   "cell_type": "code",
   "execution_count": 0,
   "metadata": {
    "colab": {},
    "colab_type": "code",
    "id": "et7JDMRmVBc0"
   },
   "outputs": [],
   "source": [
    "exterieur = []\n",
    "for i in range(len(km['name'])):\n",
    "    for j in range(len(annotations['Sequence'])-2):\n",
    "        if annotations['Sequence'][j] in km['name'][i]:\n",
    "            exterieur.append(int(annotations['Exterieur'][j]))"
   ]
  },
  {
   "cell_type": "code",
   "execution_count": 0,
   "metadata": {
    "colab": {},
    "colab_type": "code",
    "id": "hJblVJ8RVCqN"
   },
   "outputs": [],
   "source": [
    "violent = []\n",
    "for i in range(len(km['name'])):\n",
    "    for j in range(len(annotations['Sequence'])-2):\n",
    "        if annotations['Sequence'][j] in km['name'][i]:\n",
    "            violent.append(int(annotations['Violent'][j]))"
   ]
  },
  {
   "cell_type": "markdown",
   "metadata": {},
   "source": [
    "### Matrices de confusion"
   ]
  },
  {
   "cell_type": "code",
   "execution_count": 0,
   "metadata": {
    "colab": {},
    "colab_type": "code",
    "id": "qDdMemFGVE9v"
   },
   "outputs": [],
   "source": [
    "from sklearn.metrics import confusion_matrix\n",
    "cf_matrix = confusion_matrix(list(km['classe']),exterieur)\n",
    "cf_matrix_violent = confusion_matrix(list(km['classe']),violent)"
   ]
  },
  {
   "cell_type": "code",
   "execution_count": 0,
   "metadata": {
    "colab": {
     "base_uri": "https://localhost:8080/",
     "height": 452
    },
    "colab_type": "code",
    "id": "G1gdxaXOVKLI",
    "outputId": "7408f01e-39ef-45df-a759-30cbba41a49c"
   },
   "outputs": [
    {
     "name": "stdout",
     "output_type": "stream",
     "text": [
      "Confusion matrix, without normalization\n",
      "[[ 97  71]\n",
      " [100  40]]\n"
     ]
    },
    {
     "data": {
      "image/png": "[encoded data removed]",
      "text/plain": [
       "<matplotlib.figure.Figure at 0x7f68e556e780>"
      ]
     },
     "metadata": {
      "tags": []
     },
     "output_type": "display_data"
    }
   ],
   "source": [
    "plot_confusion_matrix(cf_matrix,classes=['violent','non violent'],title='Matrice de confusion violence')"
   ]
  },
  {
   "cell_type": "code",
   "execution_count": 0,
   "metadata": {
    "colab": {
     "base_uri": "https://localhost:8080/",
     "height": 452
    },
    "colab_type": "code",
    "id": "TVV7dB2EVMv8",
    "outputId": "a14ef70f-f4f3-4716-9c7c-747768cb62ff"
   },
   "outputs": [
    {
     "name": "stdout",
     "output_type": "stream",
     "text": [
      "Confusion matrix, without normalization\n",
      "[[136  32]\n",
      " [114  26]]\n"
     ]
    },
    {
     "data": {
      "image/png": "[encoded data removed]",
      "text/plain": [
       "<matplotlib.figure.Figure at 0x7f68eb7ac278>"
      ]
     },
     "metadata": {
      "tags": []
     },
     "output_type": "display_data"
    }
   ],
   "source": [
    "plot_confusion_matrix(cf_matrix_violent,classes=['intérieur','extérieur'],title='Matrice de confusion extérieur')"
   ]
  },
  {
   "cell_type": "code",
   "execution_count": 0,
   "metadata": {
    "colab": {
     "base_uri": "https://localhost:8080/",
     "height": 486
    },
    "colab_type": "code",
    "id": "_caYO-C56Woe",
    "outputId": "acb73654-d4c9-4ef4-e0ca-df068049af43"
   },
   "outputs": [
    {
     "name": "stdout",
     "output_type": "stream",
     "text": [
      "Confusion matrix, without normalization\n",
      "[[152  87]\n",
      " [ 23  24]]\n",
      "{'n_neighbors': 3}\n",
      "accuracy: 0.6153846153846154\n"
     ]
    },
    {
     "data": {
      "image/png": "[encoded data removed]",
      "text/plain": [
       "<matplotlib.figure.Figure at 0x7f965a242f28>"
      ]
     },
     "metadata": {
      "tags": []
     },
     "output_type": "display_data"
    }
   ],
   "source": [
    "# get in/out classification\n",
    "y_inout = pd.read_csv('Annotations2.csv')[\"Violent\"]\n",
    "csv_cuts = pd.read_csv('df_momentum.csv', sep=\"§\",engine='python')\n",
    "del csv_cuts['Unnamed: 0']\n",
    "#TODO: rédoudre bug\n",
    "df, confusion, acc, params= KNN_plus_gridsearch(csv_cuts, y_inout[0:308], 8, 10,'Non violent','Violent','Matrice de confusion violence')\n",
    "print (params)\n",
    "# print (confusion)\n",
    "print(f\"accuracy: {acc}\")"
   ]
  }
 ],
 "metadata": {
  "colab": {
   "collapsed_sections": [],
   "name": "Momentum.ipynb",
   "provenance": [],
   "version": "0.3.2"
  },
  "kernelspec": {
   "display_name": "Python 3",
   "language": "python",
   "name": "python3"
  },
  "language_info": {
   "codemirror_mode": {
    "name": "ipython",
    "version": 3
   },
   "file_extension": ".py",
   "mimetype": "text/x-python",
   "name": "python",
   "nbconvert_exporter": "python",
   "pygments_lexer": "ipython3",
   "version": "3.6.7"
  }
 },
 "nbformat": 4,
 "nbformat_minor": 1
}
