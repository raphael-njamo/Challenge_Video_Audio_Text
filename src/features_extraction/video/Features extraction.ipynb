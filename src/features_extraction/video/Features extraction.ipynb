{
 "cells": [
  {
   "cell_type": "markdown",
   "metadata": {},
   "source": [
    "# Extraction des features vidéo"
   ]
  },
  {
   "cell_type": "markdown",
   "metadata": {
    "colab_type": "text",
    "id": "ZsL0jgSmgLhT"
   },
   "source": [
    "### Import des librairies"
   ]
  },
  {
   "cell_type": "code",
   "execution_count": null,
   "metadata": {
    "colab": {
     "base_uri": "https://localhost:8080/",
     "height": 365
    },
    "colab_type": "code",
    "id": "oY7GLfivQyjw",
    "outputId": "f4507c21-43c5-4c12-dac2-6bfa17935f07"
   },
   "outputs": [],
   "source": [
    "! pip install imageio\n",
    "! pip install opencv-python\n",
    "\n",
    "\n",
    "%matplotlib inline\n",
    "import numpy as np\n",
    "import matplotlib.pyplot as plt\n",
    "import pandas as pd\n",
    "from matplotlib.image import imread, imsave\n",
    "import cv2\n",
    "from tqdm import tqdm\n",
    "import os\n",
    "import glob\n",
    "import shutil\n",
    "from sklearn import svm, grid_search, datasets\n",
    "from sklearn.neighbors import KNeighborsClassifier\n",
    "from sklearn.model_selection import train_test_split\n",
    "from sklearn.metrics import confusion_matrix\n",
    "from random import shuffle\n",
    "import imageio\n",
    "from sklearn.decomposition import PCA\n",
    "REP = 'data/images_10'"
   ]
  },
  {
   "cell_type": "markdown",
   "metadata": {},
   "source": [
    "### Fonction pour visualiser les images"
   ]
  },
  {
   "cell_type": "code",
   "execution_count": null,
   "metadata": {
    "colab": {
     "base_uri": "https://localhost:8080/",
     "height": 2335
    },
    "colab_type": "code",
    "id": "M2kwxo0IfjNQ",
    "outputId": "f6cc161b-a0f1-4985-cb9b-9f19c1ffa50b"
   },
   "outputs": [],
   "source": [
    "def show_images(*args, col=3):\n",
    "    \"\"\"\n",
    "        Plot image(s)\n",
    "        \n",
    "        Take as param: list, str (for a folder's path) or np.ndarray.\n",
    "    \"\"\"\n",
    "    for arg in args:\n",
    "        if isinstance(arg, list):\n",
    "            images = arg\n",
    "            rows = len(images) // col + 1\n",
    "            fig = plt.figure(figsize=(col*8, rows*6))\n",
    "            for i, image in enumerate(images):\n",
    "                try:\n",
    "                    fig.add_subplot(rows, col, i+1)\n",
    "                    plt.imshow(image)\n",
    "                    plt.grid(False)\n",
    "                    plt.axis('off')\n",
    "                    plt.title(i)\n",
    "                except:\n",
    "                    pass\n",
    "        elif isinstance(arg, str):\n",
    "            folder = arg\n",
    "            paths = sorted(glob.glob(f\"{folder}/*.jpg\"))\n",
    "            if not paths:\n",
    "                print(f\"The folder '{folder}' does not contain any JPG image.\")\n",
    "            else:\n",
    "                rows = len(paths) // col + 1\n",
    "                fig = plt.figure(figsize=(col*8, rows*6))\n",
    "                for i, path in enumerate(paths):\n",
    "                    try:\n",
    "                        fig.add_subplot(rows, col, i+1)\n",
    "                        plt.imshow(imread(path))\n",
    "                        plt.grid(False)\n",
    "                        plt.axis('off')\n",
    "                        plt.title(i)\n",
    "                    except:\n",
    "                        pass\n",
    "        elif isinstance(arg, np.ndarray):\n",
    "            image = arg\n",
    "            plt.figure(figsize=(8, 6))\n",
    "            plt.imshow(image)\n",
    "            plt.grid(False)\n",
    "            plt.axis('off')\n",
    "        else:\n",
    "            print(\"Invalid type of argument (must be 'list', 'str' or 'np.ndarray')\")\n",
    "    plt.savefig(\"img/grille_images.pdf\")\n",
    "    plt.savefig(\"img/grille_images.png\", dpi=100)\n",
    "    plt.show()\n",
    "    \n",
    "show_images(\"data/image_10/SEQ_001_VIDEO\")"
   ]
  },
  {
   "cell_type": "markdown",
   "metadata": {
    "colab_type": "text",
    "id": "HrLnioDnPRfK"
   },
   "source": [
    "### Transformer video en images"
   ]
  },
  {
   "cell_type": "code",
   "execution_count": 0,
   "metadata": {
    "colab": {},
    "colab_type": "code",
    "id": "JeRwf4fiX-iQ"
   },
   "outputs": [],
   "source": [
    "def video_to_frames(videopath):\n",
    "    frames = []\n",
    "    vidcap = cv2.VideoCapture(videopath)\n",
    "    framerate = int(vidcap.get(5))\n",
    "    name = os.path.splitext(os.path.basename(videopath))[0]\n",
    "    success, frame = vidcap.read()\n",
    "    frame_number = 0\n",
    "    while success:\n",
    "        if frame_number % framerate == 0:\n",
    "            frame = cv2.cvtColor(frame, cv2.COLOR_BGR2RGB)  # convertion to RGB\n",
    "            frames.append(frame)\n",
    "        success, frame = vidcap.read() \n",
    "        frame_number += 1\n",
    "    return frames, framerate, name\n",
    "\n",
    "\n",
    "def seq_to_3_frames(images):\n",
    "    duration = len(images)\n",
    "    tiers_values = [duration//4, duration//2, 3*duration//4]\n",
    "    frames = [images[tiers] for tiers in tiers_values]\n",
    "    return frames, duration\n",
    "\n",
    "# show_images(f, col=3)"
   ]
  },
  {
   "cell_type": "markdown",
   "metadata": {
    "colab_type": "text",
    "id": "uigtHpcfPh6b"
   },
   "source": [
    "### Parse all videos to extract frames\n"
   ]
  },
  {
   "cell_type": "code",
   "execution_count": 0,
   "metadata": {
    "colab": {},
    "colab_type": "code",
    "id": "yyWWrmXzgSIQ"
   },
   "outputs": [],
   "source": [
    "def build_image_folder(start=None, end=None):\n",
    "    for videopath in ProgressBar((sorted(glob.glob(\"data/video/*.mp4\")))[start:end]):\n",
    "        frames_per_sec, framerate, name = video_to_frames(videopath)\n",
    "        folder = f\"data/image_sec/{name}\"\n",
    "        os.makedirs(folder, exist_ok=True)\n",
    "        for i, frame in enumerate(frames_per_sec):\n",
    "            imsave(f\"{folder}/frame_{i:03}.jpg\", frame)\n",
    "            \n",
    "        frames_3, duration = seq_to_3_frames(frames_per_sec)\n",
    "        folder = f\"data/image_3/{name}\"\n",
    "        os.makedirs(folder, exist_ok=True)\n",
    "        for i, frame in enumerate(frames_3):\n",
    "            imsave(f\"{folder}/frame_{i}.jpg\", frame)"
   ]
  },
  {
   "cell_type": "code",
   "execution_count": 0,
   "metadata": {
    "colab": {},
    "colab_type": "code",
    "id": "JaSlw56AjP-F"
   },
   "outputs": [],
   "source": [
    "def folder_to_list(folder):\n",
    "    paths = sorted(glob.glob(f\"{folder}/*.jpg\"))\n",
    "    if paths:\n",
    "        frames = []\n",
    "        for path in paths:\n",
    "            frames.append(imread(path))        \n",
    "    else:\n",
    "        print(f\"The folder '{folder}' does not contain any JPG image.\")\n",
    "    return frames\n",
    "\n",
    "def folder_to_list_grey(folder):\n",
    "    paths = sorted(glob.glob(f\"{folder}/*.jpg\"))\n",
    "    if paths:\n",
    "        frames = []\n",
    "        for path in paths:\n",
    "            frames.append(imread(path, 0))     \n",
    "    else:\n",
    "        print(f\"The folder '{folder}' does not contain any JPG image.\")\n",
    "    return frames"
   ]
  },
  {
   "cell_type": "markdown",
   "metadata": {
    "colab_type": "text",
    "id": "UtnRdnTbpIUz"
   },
   "source": [
    "### Récupérer 10 images par séquence"
   ]
  },
  {
   "cell_type": "code",
   "execution_count": 0,
   "metadata": {
    "colab": {},
    "colab_type": "code",
    "id": "dFJKi6-1lwCK"
   },
   "outputs": [],
   "source": [
    "def seq_to_10_frames(images):\n",
    "    duration = len(images)\n",
    "    tiers_values = []\n",
    "    for i in range(1,11):\n",
    "        tiers_values.append(i*duration//11)\n",
    "#         tiers_values = [duration//201, 2*duration//11, 3*duration//11, 4*duration//11, 5*duration//11, 6*duration//11,\n",
    "#                     7*duration//11, 8*duration//11, 9*duration//11, 10*duration//11]\n",
    "    frames = [images[tiers] for tiers in tiers_values]\n",
    "    return frames, duration"
   ]
  },
  {
   "cell_type": "code",
   "execution_count": 0,
   "metadata": {
    "colab": {},
    "colab_type": "code",
    "id": "6DRPxLenpI-S"
   },
   "outputs": [],
   "source": [
    "def build_image_folder_10(start=None, end=None):\n",
    "    for videopath in tqdm((sorted(glob.glob(\"data/video/*.mp4\")))[start:end]):\n",
    "        frames_per_sec, framerate, name = video_to_frames(videopath)\n",
    "        #folder = f\"data/image_sec/{name}\"\n",
    "        #os.makedirs(folder, exist_ok=True)\n",
    "        #for i, frame in enumerate(frames_per_sec):\n",
    "        #    imsave(f\"{folder}/frame_{i:03}.jpg\", frame)\n",
    "            \n",
    "        frames_10, duration = seq_to_10_frames(frames_per_sec)\n",
    "        folder = f\"data/image_10/{name}\"\n",
    "        os.makedirs(folder, exist_ok=True)\n",
    "        for i, frame in enumerate(frames_10):\n",
    "            imageio.imwrite(f\"{folder}/frame_{i:03}.jpg\", frame)"
   ]
  },
  {
   "cell_type": "markdown",
   "metadata": {
    "colab_type": "text",
    "id": "_DqlR8w7ndtH"
   },
   "source": [
    "## Calcul descripteurs"
   ]
  },
  {
   "cell_type": "markdown",
   "metadata": {
    "colab_type": "text",
    "id": "1Q3VY8qkc8Lz"
   },
   "source": [
    "### Calcul des histogrammes de couleurs"
   ]
  },
  {
   "cell_type": "code",
   "execution_count": 0,
   "metadata": {
    "colab": {},
    "colab_type": "code",
    "id": "0JsAZ6PbLDMU"
   },
   "outputs": [],
   "source": [
    "# # def quantification(img, nbits = 2):\n",
    "# #     num = 0\n",
    "# #     for i in range(nbits):\n",
    "# #         num += 128 / (2**i)  # on determine la valeur correspondant à la quantification\n",
    "# #     Rouge = np.bitwise_and(img[:,:,0], int(num))  # en fonction du nombre de bits choisits\n",
    "# #     Vert = np.bitwise_and(img[:,:,1], int(num))\n",
    "# #     Bleu = np.bitwise_and(img[:,:,2], int(num))\n",
    "# #     Rouge = np.floor(Rouge / (2**(8-3*nbits)))\n",
    "# #     Vert = np.floor(Vert / (2**(8-2*nbits)))\n",
    "# #     Bleu = np.floor(Bleu / (2**(8-nbits)))\n",
    "# #     return Rouge + Vert + Bleu\n",
    "\n",
    "# def histogramme(img):\n",
    "#     M = img.shape[0]\n",
    "#     N = img.shape[1]\n",
    "#     list_histo = []\n",
    "#     val =1/(M*N)\n",
    "#     for color in range(3):\n",
    "#         histo = np.zeros(256)    \n",
    "#         for i in range(M):\n",
    "#             for j in range(N):\n",
    "#                 histo[int(img[i,j, color])] += val\n",
    "#         list_histo.append(histo)\n",
    "#     return list_histo\n",
    "        \n",
    "# def dist_Manhattan(hist1, hist2):\n",
    "#     return sum(np.abs(np.array(hist1) - np.array(hist2)))"
   ]
  },
  {
   "cell_type": "code",
   "execution_count": null,
   "metadata": {
    "colab": {
     "base_uri": "https://localhost:8080/",
     "height": 8524
    },
    "colab_type": "code",
    "id": "F_yRCh-KmSq9",
    "outputId": "cdc5f92a-4466-4ee9-d2d2-0612fea64f46"
   },
   "outputs": [],
   "source": [
    "def process_histo(start=None, end=None):\n",
    "    dic = {}\n",
    "    for name in tqdm(sorted(glob.glob(\"data/image_10/*\"))[start:end]):\n",
    "        images_10 = folder_to_list(name)\n",
    "        features = []\n",
    "        for j, frame in enumerate(images_10):\n",
    "            couleur = ('b','g','r')\n",
    "            plt.figure(figsize=(8, 6))\n",
    "            plt.imshow(frame)\n",
    "            plt.grid(False)\n",
    "            plt.axis('off')\n",
    "            plt.title(str(j))\n",
    "            plt.show()\n",
    "            imsave(f\"img/{j:02}.jpg\", frame)\n",
    "            for i in [0,1,2]:\n",
    "                histo = cv2.calcHist([frame], [i], None, [256], [0, 256])\n",
    "                plt.plot(histo, color=couleur[i])\n",
    "                plt.xlabel('Intensité (RGB)')\n",
    "                plt.ylabel(\"Nombre d'occurrence\")\n",
    "                for h in histo:\n",
    "                    features.append(int(h))\n",
    "            plt.savefig(f'img/histo_couleur_{i:02}-{j:02}.pdf',bbox_inches='tight')\n",
    "            plt.savefig(f'img/histo_couleur_{i:02}-{j:02}.png',bbox_inches='tight')\n",
    "            plt.show()\n",
    "        dic[name[14:]] = features\n",
    "    return pd.DataFrame.from_dict(dic, orient=\"index\")"
   ]
  },
  {
   "cell_type": "code",
   "execution_count": 0,
   "metadata": {
    "colab": {},
    "colab_type": "code",
    "id": "GjvxOR9aSAIR"
   },
   "outputs": [],
   "source": [
    "pd.read_csv(\"df_histo.csv\", sep=\"§\")"
   ]
  },
  {
   "cell_type": "code",
   "execution_count": null,
   "metadata": {
    "colab": {
     "base_uri": "https://localhost:8080/",
     "height": 606
    },
    "colab_type": "code",
    "id": "XNX_FAarkJl1",
    "outputId": "1c069993-4ef6-4907-a9dc-bf1eb7b3f296"
   },
   "outputs": [],
   "source": [
    "def process_cuts(start=None, end=None, seuil=700, coef=0.6):\n",
    "    dic = {}\n",
    "    for videopath in tqdm((sorted(glob.glob(\"data/video/*.mp4\")))[start:end]):\n",
    "        frames = []\n",
    "        features = []\n",
    "        cap = cv2.VideoCapture(videopath)\n",
    "        success, frame = cap.read()   # frame is a valid image if and only if success is true\n",
    "        list_histo = []\n",
    "        i = 0\n",
    "        rate = int(cap.get(cv2.CAP_PROP_FPS))\n",
    "\n",
    "        while success:\n",
    "            frames.append(frame)\n",
    "            histo = [cv2.calcHist(frame, [color], None, [256], [0, 256]) for color in [0, 1, 2]]\n",
    "            histo = np.mean(histo, axis=0).reshape(len(histo[0]))\n",
    "            list_histo.append(histo)\n",
    "            i += 1\n",
    "            success, frame = cap.read()\n",
    "        cut = 0\n",
    "        distance = []\n",
    "        max_cut = 0\n",
    "        for i in range(len(list_histo) - 1):\n",
    "            distance.append(sum(np.abs(np.array(list_histo[i]) - np.array(list_histo[i+1]))))\n",
    "#         plt.plot(distance)\n",
    "#         plt.ylabel('Distance')\n",
    "#         plt.xlabel(\"Numéro d'image\")\n",
    "#         plt.savefig('img/distance.pdf',bbox_inches='tight')\n",
    "#         plt.savefig('img/distance.png',bbox_inches='tight')\n",
    "#         plt.show()\n",
    "        for i in range(5, len(distance) - 5):\n",
    "            if distance[i]>seuil and distance[i] > coef*max(distance):\n",
    "                cut+=1\n",
    "#                 imsave(f\"img/dist{i-1:05}.jpg\", cv2.cvtColor(frames[i-1], cv2.COLOR_BGR2RGB))\n",
    "#                 imsave(f\"img/dist{i:05}.jpg\", cv2.cvtColor(frames[i], cv2.COLOR_BGR2RGB))\n",
    "#                 imsave(f\"img/dist{i+1:05}.jpg\", cv2.cvtColor(frames[i+1], cv2.COLOR_BGR2RGB))\n",
    "#                 imsave(f\"img/dist{i+2:05}.jpg\", cv2.cvtColor(frames[i+2], cv2.COLOR_BGR2RGB))\n",
    "        print(cut)\n",
    "        \n",
    "        moy = (len(distance)/(cut+1))/rate\n",
    "        \n",
    "        features = [cut,moy]\n",
    "        \n",
    "        dic[videopath[11:]] = features\n",
    "    df = pd.DataFrame.from_dict(dic, orient=\"index\")\n",
    "    df.columns=['nb_cuts','moy_seq']\n",
    "    return df"
   ]
  },
  {
   "cell_type": "markdown",
   "metadata": {
    "colab_type": "text",
    "id": "SCtZKEIKR97I"
   },
   "source": [
    "### Calcul de la quantité de mouvement"
   ]
  },
  {
   "cell_type": "code",
   "execution_count": null,
   "metadata": {
    "colab": {
     "base_uri": "https://localhost:8080/",
     "height": 518
    },
    "colab_type": "code",
    "id": "dt_8cSybopJT",
    "outputId": "00ee4d1c-4c48-483b-de1d-4949ae017457"
   },
   "outputs": [],
   "source": [
    "import cv2\n",
    "import numpy as np\n",
    "from tqdm import tqdm\n",
    "\n",
    "\n",
    "# def optical_flow_smart(videopath):\n",
    "#     cam = cv2.VideoCapture(videopath)\n",
    "#     ret, img = cam.read()\n",
    "#     prevgray = cv2.cvtColor(img, cv2.COLOR_BGR2GRAY)\n",
    "#     res = []\n",
    "#     while ret:\n",
    "#         gray = cv2.cvtColor(img, cv2.COLOR_BGR2GRAY)\n",
    "#         flow = cv2.calcOpticalFlowFarneback(prevgray, gray, None, 0.5, 3, 15, 3, 5, 1.2, 0)\n",
    "#         prevgray = gray\n",
    "#         res.append(np.sum(flow))\n",
    "#         ret, img = cam.read()\n",
    "#     return np.sum(res)\n",
    "\n",
    "def quant(img, flow, step=16):\n",
    "    h, w = img.shape[:2]\n",
    "    y, x = np.mgrid[step/2:h:step, step/2:w:step].reshape(2,-1).astype(int)\n",
    "    fx, fy = flow[y,x].T\n",
    "    lines = np.vstack([x, y, x+fx, y+fy]).T.reshape(-1, 2, 2)\n",
    "    lines = np.int32(lines + 0.5)\n",
    "    tot = []\n",
    "    for (x1, y1), (x2, y2) in lines:\n",
    "        #calcul de la distance euclidienne entre les points x et y\n",
    "        tot.append(np.sqrt((x2 - x1)**2 + (y2 - y1)**2))\n",
    "    return np.sum(np.abs(np.abs(tot) - np.mean(np.abs(tot))))\n",
    "\n",
    "\n",
    "def optical_flow_smart(videopath):\n",
    "    frames = folder_to_list(videopath)\n",
    "    res = []\n",
    "    paths = sorted(glob.glob(f\"{videopath}/*.jpg\"))\n",
    "    prevgray = cv2.imread(paths[0], 0)\n",
    "    for path in paths[1:]:\n",
    "        distance = 0\n",
    "        gray = cv2.imread(path, 0)\n",
    "        flow = cv2.calcOpticalFlowFarneback(prevgray, gray, None, 0.5, 3, 15, 3, 5, 1.2, 0)\n",
    "        q = quant(gray, flow)\n",
    "        res.append(q)\n",
    "    return res\n",
    "\n",
    "def process_momentum(start=None, end=None):\n",
    "    dic = {}\n",
    "    for name in tqdm(sorted(glob.glob(\"data/image_200/*\"))[start:end]):\n",
    "#         images_200 = folder_to_list(name)\n",
    "        features = []\n",
    "        for path in glob.glob(name):\n",
    "            res = optical_flow_smart(path)\n",
    "#             plt.plot(res)\n",
    "#             plt.title(path)\n",
    "#             plt.show()\n",
    "            features = []\n",
    "            for i in range(len(res)):\n",
    "                features.append(res[i])\n",
    "        dic[name[15:]] = features\n",
    "    return pd.DataFrame.from_dict(dic, orient=\"index\")\n",
    "\n",
    "\n",
    "# prompt histograms\n",
    "# for path in tqdm((sorted(glob.glob(\"data/image_sec/*\")))):\n",
    "#     plot data\n",
    "#     plt.plot(optical_flow_smart(path))\n",
    "#     plt.title(path)\n",
    "#     plt.show()\n",
    "    \n",
    "df_momentum = process_momentum()\n",
    "df_momentum.to_csv(\"df_momentum.csv\", sep=\"§\")"
   ]
  }
 ],
 "metadata": {
  "colab": {
   "collapsed_sections": [],
   "name": "Préprocessing.ipynb",
   "provenance": [],
   "toc_visible": true,
   "version": "0.3.2"
  },
  "kernelspec": {
   "display_name": "Python 3",
   "language": "python",
   "name": "python3"
  },
  "language_info": {
   "codemirror_mode": {
    "name": "ipython",
    "version": 3
   },
   "file_extension": ".py",
   "mimetype": "text/x-python",
   "name": "python",
   "nbconvert_exporter": "python",
   "pygments_lexer": "ipython3",
   "version": "3.6.7"
  }
 },
 "nbformat": 4,
 "nbformat_minor": 1
}
